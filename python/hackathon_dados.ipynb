{
 "cells": [
  {
   "cell_type": "code",
   "execution_count": 1,
   "id": "bbf52dbe-4074-429d-940e-b00b66401ad9",
   "metadata": {},
   "outputs": [],
   "source": [
    "import pandas as pd\n",
    "import matplotlib.pyplot as plt"
   ]
  },
  {
   "cell_type": "code",
   "execution_count": 5,
   "id": "5e626668-5682-4418-815d-ce420ba48090",
   "metadata": {},
   "outputs": [
    {
     "data": {
      "text/html": [
       "<div>\n",
       "<style scoped>\n",
       "    .dataframe tbody tr th:only-of-type {\n",
       "        vertical-align: middle;\n",
       "    }\n",
       "\n",
       "    .dataframe tbody tr th {\n",
       "        vertical-align: top;\n",
       "    }\n",
       "\n",
       "    .dataframe thead th {\n",
       "        text-align: right;\n",
       "    }\n",
       "</style>\n",
       "<table border=\"1\" class=\"dataframe\">\n",
       "  <thead>\n",
       "    <tr style=\"text-align: right;\">\n",
       "      <th></th>\n",
       "      <th>DT_NOTIFIC</th>\n",
       "      <th>SEM_NOT</th>\n",
       "      <th>DT_SIN_PRI</th>\n",
       "      <th>SEM_PRI</th>\n",
       "      <th>SG_UF_NOT</th>\n",
       "      <th>ID_REGIONA</th>\n",
       "      <th>CO_REGIONA</th>\n",
       "      <th>ID_MUNICIP</th>\n",
       "      <th>CO_MUN_NOT</th>\n",
       "      <th>ID_UNIDADE</th>\n",
       "      <th>...</th>\n",
       "      <th>VG_REINF</th>\n",
       "      <th>REINF</th>\n",
       "      <th>FAB_ADIC</th>\n",
       "      <th>LOT_RE_BI</th>\n",
       "      <th>FAB_RE_BI</th>\n",
       "      <th>DOSE_ADIC</th>\n",
       "      <th>DOS_RE_BI</th>\n",
       "      <th>LOTE_ADIC</th>\n",
       "      <th>TABAG</th>\n",
       "      <th>CASO_SRAG</th>\n",
       "    </tr>\n",
       "  </thead>\n",
       "  <tbody>\n",
       "    <tr>\n",
       "      <th>0</th>\n",
       "      <td>07/03/2024</td>\n",
       "      <td>10</td>\n",
       "      <td>01/03/2024</td>\n",
       "      <td>9</td>\n",
       "      <td>SP</td>\n",
       "      <td>GVE XXV SANTOS</td>\n",
       "      <td>1349</td>\n",
       "      <td>SANTOS</td>\n",
       "      <td>354850</td>\n",
       "      <td>SANTA CASA DE SANTOS</td>\n",
       "      <td>...</td>\n",
       "      <td>NaN</td>\n",
       "      <td>2.0</td>\n",
       "      <td>NaN</td>\n",
       "      <td>NaN</td>\n",
       "      <td>NaN</td>\n",
       "      <td>NaN</td>\n",
       "      <td>NaN</td>\n",
       "      <td>NaN</td>\n",
       "      <td>NaN</td>\n",
       "      <td>1.0</td>\n",
       "    </tr>\n",
       "    <tr>\n",
       "      <th>1</th>\n",
       "      <td>02/02/2024</td>\n",
       "      <td>5</td>\n",
       "      <td>15/01/2024</td>\n",
       "      <td>3</td>\n",
       "      <td>SP</td>\n",
       "      <td>GVE XXV SANTOS</td>\n",
       "      <td>1349</td>\n",
       "      <td>SANTOS</td>\n",
       "      <td>354850</td>\n",
       "      <td>SECAO DE VIGILANCIA EPIDEMIOLOGICA SEVIEP</td>\n",
       "      <td>...</td>\n",
       "      <td>NaN</td>\n",
       "      <td>2.0</td>\n",
       "      <td>NaN</td>\n",
       "      <td>NaN</td>\n",
       "      <td>NaN</td>\n",
       "      <td>NaN</td>\n",
       "      <td>NaN</td>\n",
       "      <td>NaN</td>\n",
       "      <td>NaN</td>\n",
       "      <td>1.0</td>\n",
       "    </tr>\n",
       "    <tr>\n",
       "      <th>2</th>\n",
       "      <td>24/09/2024</td>\n",
       "      <td>39</td>\n",
       "      <td>20/09/2024</td>\n",
       "      <td>38</td>\n",
       "      <td>SP</td>\n",
       "      <td>GVE XXV SANTOS</td>\n",
       "      <td>1349</td>\n",
       "      <td>SANTOS</td>\n",
       "      <td>354850</td>\n",
       "      <td>SANTA CASA DE SANTOS</td>\n",
       "      <td>...</td>\n",
       "      <td>NaN</td>\n",
       "      <td>2.0</td>\n",
       "      <td>NaN</td>\n",
       "      <td>NaN</td>\n",
       "      <td>NaN</td>\n",
       "      <td>NaN</td>\n",
       "      <td>NaN</td>\n",
       "      <td>NaN</td>\n",
       "      <td>NaN</td>\n",
       "      <td>1.0</td>\n",
       "    </tr>\n",
       "    <tr>\n",
       "      <th>3</th>\n",
       "      <td>09/10/2024</td>\n",
       "      <td>41</td>\n",
       "      <td>04/10/2024</td>\n",
       "      <td>40</td>\n",
       "      <td>SP</td>\n",
       "      <td>GVE XXV SANTOS</td>\n",
       "      <td>1349</td>\n",
       "      <td>SANTOS</td>\n",
       "      <td>354850</td>\n",
       "      <td>SANTA CASA DE SANTOS</td>\n",
       "      <td>...</td>\n",
       "      <td>NaN</td>\n",
       "      <td>2.0</td>\n",
       "      <td>NaN</td>\n",
       "      <td>NaN</td>\n",
       "      <td>NaN</td>\n",
       "      <td>NaN</td>\n",
       "      <td>NaN</td>\n",
       "      <td>NaN</td>\n",
       "      <td>NaN</td>\n",
       "      <td>0.0</td>\n",
       "    </tr>\n",
       "    <tr>\n",
       "      <th>4</th>\n",
       "      <td>02/09/2024</td>\n",
       "      <td>36</td>\n",
       "      <td>31/08/2024</td>\n",
       "      <td>35</td>\n",
       "      <td>SP</td>\n",
       "      <td>GVE XXV SANTOS</td>\n",
       "      <td>1349</td>\n",
       "      <td>SANTOS</td>\n",
       "      <td>354850</td>\n",
       "      <td>SANTA CASA DE SANTOS</td>\n",
       "      <td>...</td>\n",
       "      <td>NaN</td>\n",
       "      <td>2.0</td>\n",
       "      <td>NaN</td>\n",
       "      <td>NaN</td>\n",
       "      <td>NaN</td>\n",
       "      <td>NaN</td>\n",
       "      <td>NaN</td>\n",
       "      <td>NaN</td>\n",
       "      <td>NaN</td>\n",
       "      <td>0.0</td>\n",
       "    </tr>\n",
       "  </tbody>\n",
       "</table>\n",
       "<p>5 rows × 191 columns</p>\n",
       "</div>"
      ],
      "text/plain": [
       "   DT_NOTIFIC  SEM_NOT  DT_SIN_PRI  SEM_PRI SG_UF_NOT      ID_REGIONA  \\\n",
       "0  07/03/2024       10  01/03/2024        9        SP  GVE XXV SANTOS   \n",
       "1  02/02/2024        5  15/01/2024        3        SP  GVE XXV SANTOS   \n",
       "2  24/09/2024       39  20/09/2024       38        SP  GVE XXV SANTOS   \n",
       "3  09/10/2024       41  04/10/2024       40        SP  GVE XXV SANTOS   \n",
       "4  02/09/2024       36  31/08/2024       35        SP  GVE XXV SANTOS   \n",
       "\n",
       "   CO_REGIONA ID_MUNICIP  CO_MUN_NOT  \\\n",
       "0        1349     SANTOS      354850   \n",
       "1        1349     SANTOS      354850   \n",
       "2        1349     SANTOS      354850   \n",
       "3        1349     SANTOS      354850   \n",
       "4        1349     SANTOS      354850   \n",
       "\n",
       "                                  ID_UNIDADE  ...  VG_REINF REINF FAB_ADIC  \\\n",
       "0                       SANTA CASA DE SANTOS  ...       NaN   2.0      NaN   \n",
       "1  SECAO DE VIGILANCIA EPIDEMIOLOGICA SEVIEP  ...       NaN   2.0      NaN   \n",
       "2                       SANTA CASA DE SANTOS  ...       NaN   2.0      NaN   \n",
       "3                       SANTA CASA DE SANTOS  ...       NaN   2.0      NaN   \n",
       "4                       SANTA CASA DE SANTOS  ...       NaN   2.0      NaN   \n",
       "\n",
       "   LOT_RE_BI  FAB_RE_BI  DOSE_ADIC  DOS_RE_BI  LOTE_ADIC  TABAG CASO_SRAG  \n",
       "0        NaN        NaN        NaN        NaN        NaN    NaN       1.0  \n",
       "1        NaN        NaN        NaN        NaN        NaN    NaN       1.0  \n",
       "2        NaN        NaN        NaN        NaN        NaN    NaN       1.0  \n",
       "3        NaN        NaN        NaN        NaN        NaN    NaN       0.0  \n",
       "4        NaN        NaN        NaN        NaN        NaN    NaN       0.0  \n",
       "\n",
       "[5 rows x 191 columns]"
      ]
     },
     "execution_count": 5,
     "metadata": {},
     "output_type": "execute_result"
    }
   ],
   "source": [
    "vacinas = pd.read_excel(\"vacinas.xlsx\", engine=\"openpyxl\")\n",
    "vacinas.head()"
   ]
  },
  {
   "cell_type": "code",
   "execution_count": 9,
   "id": "8783015a-e6c4-45dc-a5f7-f5d9f58c93f8",
   "metadata": {},
   "outputs": [
    {
     "data": {
      "text/plain": [
       "ID_UNIDADE\n",
       "SANTA CASA DE SANTOS                                          2492\n",
       "CASA DE SAUDE SANTOS                                           596\n",
       "HOSPITAL ANA COSTA                                             552\n",
       "SECAO DE VIGILANCIA EPIDEMIOLOGICA SEVIEP                      545\n",
       "HOSPITAL SANTO ANTONIO SANTOS                                  423\n",
       "COMPLEXO HOSPITALAR DOS ESTIVADORES                            390\n",
       "SECAO PRONTO SOCORRO DA ZONA ORLA INTERMEDIARIA SEPROS ZOI     218\n",
       "HOSPITAL SAO LUCAS DE SANTOS                                   191\n",
       "UPA CENTRAL SANTOS                                             185\n",
       "SECAO PRONTO SOCORRO DA ZONA NOROESTE SEPROS ZNO               169\n",
       "HOSPITAL SANTO EXPEDITO                                         76\n",
       "HOSPITAL GUILHERME ALVARO SANTOS                                67\n",
       "HOSPITAL FREI GALVAO                                            60\n",
       "SECAO PRONTO SOCORRO CENTRAL SEPROS C                           46\n",
       "HOSPITAL E PRONTO SOCORRO INFANTIL GONZAGA SANTOS               29\n",
       "SECAO HOSPITAL MUNICIPAL DR ARTHUR DOMINGUES PINTO              24\n",
       "ONCOLOGIA VITORIA                                               10\n",
       "CENTRO MEDICO FREI GALVAO                                        6\n",
       "HOSPITAL DOS ESTIVADORES DE SANTOS H I E S                       4\n",
       "SECAO HOSPITAL E MATERNIDADE MUNICIPAL DR SILVERIO FONTES        3\n",
       "dtype: int64"
      ]
     },
     "execution_count": 9,
     "metadata": {},
     "output_type": "execute_result"
    }
   ],
   "source": [
    "vacinas.drop_duplicates()\n",
    "duplicas = vacinas.pivot_table(index = ['ID_UNIDADE'], aggfunc ='size')\n",
    "duplicas.sort_values(ascending=False)"
   ]
  },
  {
   "cell_type": "code",
   "execution_count": 11,
   "id": "e18d7f8e-36c4-4578-8261-f372261b66ce",
   "metadata": {},
   "outputs": [
    {
     "data": {
      "text/plain": [
       "0       1.0\n",
       "1       2.0\n",
       "2       1.0\n",
       "3       1.0\n",
       "4       1.0\n",
       "       ... \n",
       "6081    NaN\n",
       "6082    2.0\n",
       "6083    1.0\n",
       "6084    2.0\n",
       "6085    2.0\n",
       "Name: EVOLUCAO, Length: 6086, dtype: float64"
      ]
     },
     "execution_count": 11,
     "metadata": {},
     "output_type": "execute_result"
    }
   ],
   "source": [
    "vacinas['EVOLUCAO']"
   ]
  },
  {
   "cell_type": "code",
   "execution_count": 13,
   "id": "28c33685-ea43-4305-908e-04c9b99c5f6c",
   "metadata": {},
   "outputs": [
    {
     "name": "stdout",
     "output_type": "stream",
     "text": [
      "EVOLUCAO\n",
      "1.0    3090\n",
      "2.0    1985\n",
      "3.0      66\n",
      "9.0       9\n",
      "dtype: int64\n"
     ]
    }
   ],
   "source": [
    "agrupado = vacinas.groupby(['EVOLUCAO']).size()\n",
    "print(agrupado)"
   ]
  },
  {
   "cell_type": "code",
   "execution_count": 15,
   "id": "323a91dd-94e1-4aa0-92d2-ad12f39bec15",
   "metadata": {},
   "outputs": [
    {
     "data": {
      "text/plain": [
       "Text(0, 0.5, 'Nº de casos')"
      ]
     },
     "execution_count": 15,
     "metadata": {},
     "output_type": "execute_result"
    },
    {
     "data": {
      "image/png": "[encoded data removed]",
      "text/plain": [
       "<Figure size 640x480 with 1 Axes>"
      ]
     },
     "metadata": {},
     "output_type": "display_data"
    }
   ],
   "source": [
    "agrupado.plot.bar(color='red')\n",
    "plt.xlabel(\"Situacao\")\n",
    "plt.ylabel(\"Nº de casos\")\n",
    "#1- CURA\n",
    "#2- ÓBITO\n",
    "#3- Óbito por outras causas\n",
    "#9-Ignorado"
   ]
  },
  {
   "cell_type": "code",
   "execution_count": 17,
   "id": "49661e64-3478-4ab8-bbee-d412fd877542",
   "metadata": {},
   "outputs": [
    {
     "name": "stdout",
     "output_type": "stream",
     "text": [
      "CS_ESCOL_N\n",
      "0.0     178\n",
      "1.0     517\n",
      "2.0     379\n",
      "3.0     746\n",
      "4.0     498\n",
      "5.0     227\n",
      "9.0    2174\n",
      "dtype: int64\n"
     ]
    }
   ],
   "source": [
    "escolaridade = vacinas.groupby(['CS_ESCOL_N']).size()\n",
    "print(escolaridade)"
   ]
  },
  {
   "cell_type": "code",
   "execution_count": 19,
   "id": "58208455-79d0-4e45-9be8-0833fdda6900",
   "metadata": {},
   "outputs": [
    {
     "name": "stdout",
     "output_type": "stream",
     "text": [
      "CS_SEXO\n",
      "F    2967\n",
      "I       1\n",
      "M    3118\n",
      "dtype: int64\n"
     ]
    }
   ],
   "source": [
    "sexo = vacinas.groupby(['CS_SEXO']).size()\n",
    "print(sexo)"
   ]
  },
  {
   "cell_type": "code",
   "execution_count": 21,
   "id": "bd0a73d8-2729-460a-ad7d-882532d7a335",
   "metadata": {},
   "outputs": [
    {
     "data": {
      "text/plain": [
       "Text(0, 0.5, 'Quantidade')"
      ]
     },
     "execution_count": 21,
     "metadata": {},
     "output_type": "execute_result"
    },
    {
     "data": {
      "image/png": "[encoded data removed]",
      "text/plain": [
       "<Figure size 640x480 with 1 Axes>"
      ]
     },
     "metadata": {},
     "output_type": "display_data"
    }
   ],
   "source": [
    "sexo.plot.bar(color='green')\n",
    "plt.xlabel(\"Sexo\")\n",
    "plt.ylabel(\"Quantidade\")"
   ]
  },
  {
   "cell_type": "code",
   "execution_count": 23,
   "id": "0bd08506-1269-4b1a-9741-add23eb2d44c",
   "metadata": {},
   "outputs": [
    {
     "data": {
      "text/plain": [
       "Text(0, 0.5, 'Quantidade')"
      ]
     },
     "execution_count": 23,
     "metadata": {},
     "output_type": "execute_result"
    },
    {
     "data": {
      "image/png": "[encoded data removed]",
      "text/plain": [
       "<Figure size 640x480 with 1 Axes>"
      ]
     },
     "metadata": {},
     "output_type": "display_data"
    }
   ],
   "source": [
    "escolaridade.plot.bar(color='purple')\n",
    "plt.xlabel(\"Escolaridade\")\n",
    "plt.ylabel(\"Quantidade\")\n",
    "#0-Sem escolaridade/Analfabeto\n",
    "#1-Fundamental 1o ciclo (1a a 5a série)\n",
    "#2-Fundamental 2o ciclo (6a a 9a série)\n",
    "#3- Médio (1o ao 3o ano)\n",
    "#4-Superior\n",
    "#5-Não se aplica\n",
    "#9-Ignorado\n"
   ]
  },
  {
   "cell_type": "code",
   "execution_count": null,
   "id": "3975e6ab-ec47-417f-a676-ba7277a4d1bb",
   "metadata": {},
   "outputs": [],
   "source": []
  }
 ],
 "metadata": {
  "kernelspec": {
   "display_name": "Python 3 (ipykernel)",
   "language": "python",
   "name": "python3"
  },
  "language_info": {
   "codemirror_mode": {
    "name": "ipython",
    "version": 3
   },
   "file_extension": ".py",
   "mimetype": "text/x-python",
   "name": "python",
   "nbconvert_exporter": "python",
   "pygments_lexer": "ipython3",
   "version": "3.8.18"
  }
 },
 "nbformat": 4,
 "nbformat_minor": 5
}
